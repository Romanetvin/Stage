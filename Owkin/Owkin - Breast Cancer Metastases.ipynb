{
 "cells": [
  {
   "cell_type": "code",
   "execution_count": 1,
   "metadata": {},
   "outputs": [
    {
     "name": "stderr",
     "output_type": "stream",
     "text": [
      "Using TensorFlow backend.\n"
     ]
    },
    {
     "name": "stdout",
     "output_type": "stream",
     "text": [
      "Keras  2.2.2\n"
     ]
    }
   ],
   "source": [
    "import os\n",
    "import numpy as np\n",
    "import matplotlib.pyplot as plt\n",
    "%matplotlib inline\n",
    "\n",
    "import keras\n",
    "print(\"Keras \", keras.__version__)\n",
    "\n",
    "from keras import models\n",
    "from keras.layers import Conv2D, MaxPooling2D, GlobalAveragePooling2D, Dropout, Flatten\n",
    "from keras import optimizers"
   ]
  },
  {
   "cell_type": "markdown",
   "metadata": {},
   "source": [
    "# Loading ResNet Features file"
   ]
  },
  {
   "cell_type": "code",
   "execution_count": 3,
   "metadata": {},
   "outputs": [
    {
     "name": "stdout",
     "output_type": "stream",
     "text": [
      "['Detecting_breast_cancer_metastases_osE1Du6.pdf', '.ipynb_checkpoints', 'Owkin - Breast Cancer Metastases.ipynb']\n"
     ]
    }
   ],
   "source": [
    "list_patient_folder = os.listdir(\"resnet_features/\")\n",
    "print(list_patient_folder)\n",
    "\n",
    "data = np.array(len(list_patient_folder))\n",
    "\n",
    "for patient_folder in list_patient_folder:\n",
    "    patient_data = np.load(patient_folder+\".npy\")\n",
    "    data.append(patient_data)"
   ]
  }
 ],
 "metadata": {
  "kernelspec": {
   "display_name": "Python 3",
   "language": "python",
   "name": "python3"
  },
  "language_info": {
   "codemirror_mode": {
    "name": "ipython",
    "version": 3
   },
   "file_extension": ".py",
   "mimetype": "text/x-python",
   "name": "python",
   "nbconvert_exporter": "python",
   "pygments_lexer": "ipython3",
   "version": "3.5.6"
  }
 },
 "nbformat": 4,
 "nbformat_minor": 2
}
